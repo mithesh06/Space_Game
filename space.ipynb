{
 "cells": [
  {
   "cell_type": "code",
   "execution_count": 1,
   "metadata": {},
   "outputs": [],
   "source": [
    "import numpy as py\n",
    "import pandas as pd\n",
    "import gspread\n",
    "import time"
   ]
  },
  {
   "cell_type": "code",
   "execution_count": 2,
   "metadata": {},
   "outputs": [],
   "source": [
    "sa=gspread.service_account(filename='key.json')\n",
    "sh=sa.open(\"Participant's Resources\")\n",
    "wks=sh.worksheet(\"Sheet1\")\n",
    "part=pd.DataFrame(wks.get_all_records())"
   ]
  },
  {
   "cell_type": "code",
   "execution_count": 3,
   "metadata": {},
   "outputs": [],
   "source": [
    "# link for Participant resourses online \n",
    "# https://docs.google.com/spreadsheets/d/1sVnQPnImfx_qOFvGFkObnec1r7LfQ7WNAnuKU5JTQTA/edit?usp=sharing\n",
    "# download \n",
    "# https://docs.google.com/spreadsheets/d/1sVnQPnImfx_qOFvGFkObnec1r7LfQ7WNAnuKU5JTQTA/gviz/tq?tqx=out:csv\n",
    "\n",
    "# Link for Planet from planet distance online\n",
    "# https://docs.google.com/spreadsheets/d/1iUknau0-Rv9UZ1xC_pa6ludZcrWx7BOaVCQHl7J0Vrk/edit?usp=sharing\\\n",
    "# Download\n",
    "# https://docs.google.com/spreadsheets/d/1iUknau0-Rv9UZ1xC_pa6ludZcrWx7BOaVCQHl7J0Vrk/gviz/tq?tqx=out:csv"
   ]
  },
  {
   "cell_type": "code",
   "execution_count": 4,
   "metadata": {},
   "outputs": [],
   "source": [
    "planet=pd.read_csv('https://docs.google.com/spreadsheets/d/1iUknau0-Rv9UZ1xC_pa6ludZcrWx7BOaVCQHl7J0Vrk/gviz/tq?tqx=out:csv')\n",
    "part=pd.DataFrame(wks.get_all_records())\n"
   ]
  },
  {
   "cell_type": "code",
   "execution_count": 5,
   "metadata": {},
   "outputs": [],
   "source": [
    "def details():\n",
    "    planet=pd.read_csv('https://docs.google.com/spreadsheets/d/1iUknau0-Rv9UZ1xC_pa6ludZcrWx7BOaVCQHl7J0Vrk/gviz/tq?tqx=out:csv')\n",
    "    part=pd.DataFrame(wks.get_all_records())\n",
    "    return planet,part\n",
    "\n"
   ]
  },
  {
   "cell_type": "code",
   "execution_count": 6,
   "metadata": {},
   "outputs": [],
   "source": [
    "#col=wks.find('test').col\n",
    "#wks.update_cell(2,col,'hello')"
   ]
  },
  {
   "cell_type": "code",
   "execution_count": 7,
   "metadata": {},
   "outputs": [],
   "source": [
    "# A - Participants\n",
    "# B - Total Time\n",
    "# C - Speed\n",
    "# D - Oxygen\n",
    "# E - LHydrogen\n",
    "# F - Water\n",
    "# G - Food\n",
    "# H - T_Oxygen // Time for mining Oxygen\n",
    "# I - T_Hydrogen // Time for mining Hydrogen\n",
    "# J - Hunt animal\n",
    "# K - Hunt Seafood\n",
    "# L - Current Planet"
   ]
  },
  {
   "cell_type": "code",
   "execution_count": 8,
   "metadata": {},
   "outputs": [],
   "source": [
    "def p_to_p(p,pl):\n",
    "    col='B'+str(p+1)\n",
    "    col1='D'+str(p+1)\n",
    "    col2='G'+str(p+1)\n",
    "    col3='F'+str(p+1)\n",
    "    col4='H'+str(p+1)\n",
    "    col5='E'+str(p+1)\n",
    "    c_pl=wks.acell('L'+str(p+1)).value\n",
    "    time=float(planet.loc[planet['Planets']==c_pl,pl].iloc[0])/4\n",
    "    wks.update(col,float(float(wks.acell(col).value)-time))\n",
    "    wks.update(col1,float(wks.acell(col1).value)-float(float(time)*0.09))\n",
    "    wks.update(col2,float(wks.acell(col2).value)-float(2*(float(time))))\n",
    "    wks.update(col3,float(wks.acell(col3).value)-float(time/50))\n",
    "    wks.update(col5,float(wks.acell(col5).value)-float(time*0.12))\n",
    "#p_to_p(1,'Kepler 283 c')\n"
   ]
  },
  {
   "cell_type": "code",
   "execution_count": 9,
   "metadata": {},
   "outputs": [],
   "source": [
    "def ignition(p,pl):\n",
    "    c_pl=wks.acell('L'+str(p+1)).value\n",
    "\n",
    "    ig=0.25+0.25*float(planet.loc[planet['Planets']==wks.acell('L'+str(p+1)).value,'Gravity'].iloc[0])\n",
    "    fuel=(0.06*float(planet.loc[planet['Planets']==c_pl,pl]))+ig\n",
    "    col= 'E'+str(p+1)\n",
    "    if(pd.isna(ig)==False and pd.isna(fuel)==False):\n",
    "        wks.update(col,float(wks.acell(col).value)-fuel)\n",
    "    #p_to_p(p,pl)\n",
    "\n",
    "#ignition(2,'Earth')"
   ]
  },
  {
   "cell_type": "code",
   "execution_count": 10,
   "metadata": {},
   "outputs": [],
   "source": [
    "def O2(p,pl,amnt):\n",
    "    col1='D'+str(p+1)\n",
    "    col2='B'+str(p+1)\n",
    "    col3='F'+str(p+1)\n",
    "    time=(amnt/400)*(planet.loc[planet['Planets']==pl,'Relative_time'].iloc[0])\n",
    "    wks.update(col2,float(wks.acell(col2).value)-time)\n",
    "    wks.update(col1,float(wks.acell(col1).value)+(0.7*(0.4*amnt)))\n",
    "    wks.update(col3,float(wks.acell(col3).value)+(0.3*(0.4*amnt)))\n",
    "\n",
    "#O2(2,'Proxima Centauri b',100)"
   ]
  },
  {
   "cell_type": "code",
   "execution_count": 11,
   "metadata": {},
   "outputs": [],
   "source": [
    "def H(p,pl,amnt):\n",
    "    col1='E'+str(p+1)\n",
    "    col2='B'+str(p+1)\n",
    "    time=(amnt/200)*(planet.loc[planet['Planets']==pl,'Relative_time'].iloc[0])\n",
    "    wks.update(col2,float(wks.acell(col2).value)-time)\n",
    "    wks.update(col1,float(wks.acell(col1).value)+(0.2*amnt))\n",
    "\n",
    "#H(2,'Proxima Centauri b',10)\n"
   ]
  },
  {
   "cell_type": "code",
   "execution_count": 12,
   "metadata": {},
   "outputs": [],
   "source": [
    "def hunt_animal(p,pl,amnt):\n",
    "    col1='G'+str(p+1)\n",
    "    col2='B'+str(p+1)\n",
    "    time=(amnt/10)*(planet.loc[planet['Planets']==pl,'Relative_time'].iloc[0])\n",
    "    wks.update(col2,float(wks.acell(col2).value)-time)\n",
    "    wks.update(col1,float(wks.acell(col1).value)+(amnt))\n",
    "#hunt_animal(1,'Proxima Centauri',10)\n",
    "    "
   ]
  },
  {
   "cell_type": "code",
   "execution_count": 13,
   "metadata": {},
   "outputs": [],
   "source": [
    "def hunt_seafood(p,pl,amnt):\n",
    "    col1='G'+str(p+1)\n",
    "    col2='B'+str(p+1)\n",
    "    time=(amnt/30)*(planet.loc[planet['Planets']==pl,'Relative_time'].iloc[0])\n",
    "    wks.update(col2,float(wks.acell(col2).value)-time)\n",
    "    wks.update(col1,float(wks.acell(col1).value)+(amnt))"
   ]
  },
  {
   "cell_type": "code",
   "execution_count": 14,
   "metadata": {},
   "outputs": [],
   "source": [
    "from pywebio import start_server\n",
    "from pywebio.input import *\n",
    "from pywebio.output import *\n",
    "import tornado.ioloop\n",
    "import threading\n"
   ]
  },
  {
   "cell_type": "code",
   "execution_count": 15,
   "metadata": {},
   "outputs": [],
   "source": [
    "def updated_dataset(n):\n",
    "    index=planet.index[planet['Planets']==wks.acell('L'+str(n+1)).value][0]\n",
    "    print(index)\n",
    "    limit=planet[0:index+7]\n",
    "    return limit"
   ]
  },
  {
   "cell_type": "code",
   "execution_count": 16,
   "metadata": {},
   "outputs": [],
   "source": [
    "def planet_list(n):\n",
    "    pl=updated_dataset(n)\n",
    "    res=[]\n",
    "    name=wks.acell('L'+str(n+1)).value\n",
    "    for i in pl.iloc[:,0]:\n",
    "        if(i!=name):\n",
    "            res.append(i)\n",
    "    return res"
   ]
  },
  {
   "cell_type": "code",
   "execution_count": 17,
   "metadata": {},
   "outputs": [],
   "source": [
    "def datasets(n):\n",
    "    planet,part=details()\n",
    "    pl=wks.acell('L'+str(n+1)).value\n",
    "    put_html(\"<style> body{background-image:url(https://cdn.pixabay.com/photo/2016/10/20/18/35/earth-1756274_1280.jpg);background-repeat:repeat-y;}</style>\")\n",
    "    put_html(f\"<h1><b style='color:white;'>Group {n}</b></h1><h4 style='text-align:right; color:white;'>Lives Left: {wks.acell('M'+str(n+1)).value}</h4><br>\")\n",
    "    put_html(\"<b style='color:white'>Participant's Resources</b>\")\n",
    "    put_html(pd.DataFrame(part.iloc[n-1]))\n",
    "    put_html(\"<br><br><b style='color:white'>Current Planet Details</b>\")\n",
    "    put_html(pd.DataFrame(planet[planet['Planets']==pl]))\n",
    "    planet=updated_dataset(n)\n",
    "    put_html(\"<br><b style='color:white'>Planets you can travel to</b>\")\n",
    "    put_html(pd.DataFrame(planet))"
   ]
  },
  {
   "cell_type": "code",
   "execution_count": 18,
   "metadata": {},
   "outputs": [],
   "source": [
    "def bars():\n",
    "    put_processbar('bar')\n",
    "    for i in range(1, 11):\n",
    "       set_processbar('bar', i / 10)\n",
    "       time.sleep(0.05)"
   ]
  },
  {
   "cell_type": "code",
   "execution_count": 19,
   "metadata": {},
   "outputs": [],
   "source": [
    "import asyncio "
   ]
  },
  {
   "cell_type": "code",
   "execution_count": 20,
   "metadata": {},
   "outputs": [],
   "source": [
    "def reset():\n",
    "    for p in range(1,15):\n",
    "        col1='B'+str(p+1)\n",
    "        c2='D'+str(p+1)\n",
    "        c3='E'+str(p+1)\n",
    "        c4='F'+str(p+1)\n",
    "        c5='G'+str(p+1)\n",
    "        c6='L'+str(p+1)\n",
    "        c7='M'+str(p+1)\n",
    "        wks.update(col1,float(80))\n",
    "        wks.update(c2,float(29))\n",
    "        wks.update(c3,float(100))\n",
    "        wks.update(c4,float(10))\n",
    "        wks.update(c5,float(50000))\n",
    "        wks.update(c6,'Earth')\n",
    "        wks.update(c7,int(3))\n",
    "#reset()"
   ]
  },
  {
   "cell_type": "code",
   "execution_count": 21,
   "metadata": {},
   "outputs": [],
   "source": [
    "def status(p):\n",
    "    col1='B'+str(p+1)\n",
    "    c2='D'+str(p+1)\n",
    "    c3='E'+str(p+1)\n",
    "    c4='F'+str(p+1)\n",
    "    c5='G'+str(p+1)\n",
    "    if((float(wks.acell(col1).value)<=0) or (float(wks.acell(c2).value)<=0) or (float(wks.acell(c3).value)<=0) or (float(wks.acell(c4).value)<=0) or (float(wks.acell(c5).value)<=0) ):\n",
    "        wks.update(col1,float(2000))\n",
    "        wks.update(c2,float(20))\n",
    "        wks.update(c3,float(80))\n",
    "        wks.update(c4,float(8))\n",
    "        wks.update(c5,float(3000))\n",
    "        return False\n",
    "    return True\n",
    "#status(1)\n",
    "    "
   ]
  },
  {
   "cell_type": "code",
   "execution_count": 22,
   "metadata": {},
   "outputs": [],
   "source": [
    "def main(group):\n",
    "    n=group\n",
    "    names=planet_list(n)\n",
    "    pname=select('Select the planet you want to travel to: ',names)\n",
    "    bars()\n",
    "    ignition(n,wks.acell('L'+str(n+1)).value)\n",
    "    p_to_p(n,pname)\n",
    "    if(float(wks.acell('B'+str(n+1)).value)<=0):\n",
    "        return 1\n",
    "    else:\n",
    "        wks.update('L'+str(n+1),pname)\n",
    "    bars()\n",
    "    clear()\n",
    "    datasets(n)\n",
    "    oxy=abs(input(\"Enter Amount of Oxygen to be mined: \",type=FLOAT))\n",
    "    O2(n,pname,oxy)\n",
    "    clear()\n",
    "    bars()\n",
    "    datasets(n)\n",
    "    Hyd=abs(float(input(\"Enter Amount of Hydrogen to be mined: \")))\n",
    "    H(n,pname,Hyd)\n",
    "    clear()\n",
    "    bars()\n",
    "    datasets(n)\n",
    "    if(planet.loc[planet['Planets']==wks.acell('L'+str(n+1)).value,'Land Animals'].iloc[0]=='Yes'):\n",
    "        animal=abs(float(input(\"Enter how many Kgs of land animal you want to hunt: \")))\n",
    "        hunt_animal(n,pname,animal)\n",
    "        clear()\n",
    "        bars()\n",
    "        datasets(n)\n",
    "    if(planet.loc[planet['Planets']==wks.acell('L'+str(n+1)).value,'Marine Life'].iloc[0]=='Yes'):\n",
    "        sea=abs(float(input(\"Enter how many Kgs of Sea animal you want to hunt: \")))\n",
    "        hunt_seafood(n,pname,sea)\n",
    "        clear()\n",
    "        bars()\n",
    "        datasets(n)\n",
    "    return select(\"0- If you decide to settle with planet  1- If you want to travel further: \",[0,1])\n",
    "        "
   ]
  },
  {
   "cell_type": "code",
   "execution_count": 23,
   "metadata": {},
   "outputs": [],
   "source": [
    "import time"
   ]
  },
  {
   "cell_type": "code",
   "execution_count": 24,
   "metadata": {
    "tags": []
   },
   "outputs": [],
   "source": [
    "def index():\n",
    "    group=select('Select Group Number: ',[i for i in range(1,16)])\n",
    "    psw=input('Enter Password: ',type=PASSWORD)\n",
    "    start=0\n",
    "    if(psw==wks.acell('N'+str(group+1)).value):\n",
    "        start=1\n",
    "        put_html(\"<style>body{background-image:url(https://c4.wallpaperflare.com/wallpaper/853/1009/106/simple-simple-background-minimalism-black-background-wallpaper-preview.jpg); background-size:cover; background-repeat:no-repeat;} h1,h2{justify-content:center; align-items:center; text-align:center; color:White;}</style><body><h1>Welcome To ORBIS ALTER</h1><h2>Presented by Lit-DacXSeds </h2></body>\")\n",
    "        time.sleep(4)\n",
    "        clear()\n",
    "    pl=pd.read_csv('https://docs.google.com/spreadsheets/d/1YNYAu_QMM0MQRWDKUQXU6w_PasVvzBeF7qkw0ea8Mzo/gviz/tq?tqx=out:csv')\n",
    "    while(int(wks.acell('M'+str(group+1)).value) > 0 and start==1):\n",
    "        flag=1\n",
    "        print('Start1: ',start)\n",
    "        while(flag!=0):\n",
    "            datasets(group)\n",
    "            flag=main(group)\n",
    "            if(status(group)==False):\n",
    "                flag=0\n",
    "                break\n",
    "        if(wks.acell('L'+str(group+1)).value==pl['Lme'].loc[0]):    \n",
    "            clear()\n",
    "            wks.update('L'+str(group+1),\"WON\")\n",
    "            put_html(\"<style> body{background-image:url(https://cdn.pixabay.com/photo/2016/10/20/18/35/earth-1756274_1280.jpg);} h1{justify-content:center; align-items:center; text-align:center; color:white}</style><body><h1>YOU WON!!!</h1>\")    \n",
    "            break\n",
    "        \n",
    "        elif(flag==0 and start==1):\n",
    "            clear()\n",
    "            ccol='M'+str(group+1)\n",
    "            wks.update(ccol,int(wks.acell(ccol).value)-1)\n",
    "            put_html(\"<style> body{background-image:url(https://cdn.pixabay.com/photo/2016/10/20/18/35/earth-1756274_1280.jpg);} h1{justify-content:center; align-items:center; text-align:center; color:white}</style><body>\"f\"<h1>You Have {wks.acell(ccol).value} lives left </h1>\")  \n",
    "            time.sleep(3)\n",
    "            clear()\n",
    "            \n",
    "        elif(wks.acell('M'+str(group+1)).value==0 and start==1):\n",
    "            clear()\n",
    "            wks.update('L'+str(group+1),\"LOST\")\n",
    "            put_html(\"<style> body{background-image:url(https://cdn.pixabay.com/photo/2016/10/20/18/35/earth-1756274_1280.jpg);} h1{justify-content:center; align-items:center; text-align:center; color:white}</style><body><h1>Sorry,You Lost</h1>\")  \n",
    "            time.sleep(5)  \n",
    "\n",
    "    if(start==0):\n",
    "        put_html(\"<style> body{background-image:url(https://cdn.pixabay.com/photo/2016/10/20/18/35/earth-1756274_1280.jpg);} h1,h2{justify-content:center; align-items:center; text-align:center; color:white}</style><body><h1>Wrong Password</h1><h2>Refresh to Re-Enter Credentials</h2>\")    \n",
    "        \n",
    "   # loop.run_forever()\n",
    "    \n",
    "\n",
    "    \n",
    "loop = asyncio.new_event_loop()    \n",
    "asyncio.set_event_loop(loop)\n",
    "# Start the PyWebIO server\n",
    "#start_server(index)\n",
    "\n",
    "# Stop the event loop\n",
    "#tornado.ioloop.IOLoop.current().stop()\n",
    "\n",
    "#import asyncio\n",
    "#import threading\n",
    "\n",
    "#def run_event_loop():\n",
    "#    loop = asyncio.new_event_loop()\n",
    "#    asyncio.set_event_loop(loop)\n",
    "#    loop.run_forever()\n",
    "\n",
    "#def run_event_loop():\n",
    "#    start_server(index)\n",
    "\n",
    "#thread = threading.Thread(target=run_event_loop)\n",
    "#thread.start()\n"
   ]
  },
  {
   "cell_type": "code",
   "execution_count": 25,
   "metadata": {},
   "outputs": [
    {
     "name": "stdout",
     "output_type": "stream",
     "text": [
      "Running on all addresses.\n",
      "Use http://192.168.0.104:64081/ to access the application\n"
     ]
    },
    {
     "ename": "RuntimeError",
     "evalue": "This event loop is already running",
     "output_type": "error",
     "traceback": [
      "\u001b[1;31m---------------------------------------------------------------------------\u001b[0m",
      "\u001b[1;31mRuntimeError\u001b[0m                              Traceback (most recent call last)",
      "Cell \u001b[1;32mIn[25], line 1\u001b[0m\n\u001b[1;32m----> 1\u001b[0m start_server(index)\n",
      "File \u001b[1;32mc:\\Python311\\Lib\\site-packages\\pywebio\\platform\\tornado.py:302\u001b[0m, in \u001b[0;36mstart_server\u001b[1;34m(applications, port, host, debug, cdn, static_dir, remote_access, reconnect_timeout, allowed_origins, check_origin, auto_open_webbrowser, max_payload_size, **tornado_app_settings)\u001b[0m\n\u001b[0;32m    299\u001b[0m \u001b[39mif\u001b[39;00m remote_access:\n\u001b[0;32m    300\u001b[0m     start_remote_access_service(local_port\u001b[39m=\u001b[39mport)\n\u001b[1;32m--> 302\u001b[0m tornado\u001b[39m.\u001b[39;49mioloop\u001b[39m.\u001b[39;49mIOLoop\u001b[39m.\u001b[39;49mcurrent()\u001b[39m.\u001b[39;49mstart()\n",
      "File \u001b[1;32m~\\AppData\\Roaming\\Python\\Python311\\site-packages\\tornado\\platform\\asyncio.py:215\u001b[0m, in \u001b[0;36mBaseAsyncIOLoop.start\u001b[1;34m(self)\u001b[0m\n\u001b[0;32m    213\u001b[0m \u001b[39mtry\u001b[39;00m:\n\u001b[0;32m    214\u001b[0m     asyncio\u001b[39m.\u001b[39mset_event_loop(\u001b[39mself\u001b[39m\u001b[39m.\u001b[39masyncio_loop)\n\u001b[1;32m--> 215\u001b[0m     \u001b[39mself\u001b[39;49m\u001b[39m.\u001b[39;49masyncio_loop\u001b[39m.\u001b[39;49mrun_forever()\n\u001b[0;32m    216\u001b[0m \u001b[39mfinally\u001b[39;00m:\n\u001b[0;32m    217\u001b[0m     asyncio\u001b[39m.\u001b[39mset_event_loop(old_loop)\n",
      "File \u001b[1;32mc:\\Python311\\Lib\\asyncio\\base_events.py:596\u001b[0m, in \u001b[0;36mBaseEventLoop.run_forever\u001b[1;34m(self)\u001b[0m\n\u001b[0;32m    594\u001b[0m \u001b[39m\"\"\"Run until stop() is called.\"\"\"\u001b[39;00m\n\u001b[0;32m    595\u001b[0m \u001b[39mself\u001b[39m\u001b[39m.\u001b[39m_check_closed()\n\u001b[1;32m--> 596\u001b[0m \u001b[39mself\u001b[39;49m\u001b[39m.\u001b[39;49m_check_running()\n\u001b[0;32m    597\u001b[0m \u001b[39mself\u001b[39m\u001b[39m.\u001b[39m_set_coroutine_origin_tracking(\u001b[39mself\u001b[39m\u001b[39m.\u001b[39m_debug)\n\u001b[0;32m    599\u001b[0m old_agen_hooks \u001b[39m=\u001b[39m sys\u001b[39m.\u001b[39mget_asyncgen_hooks()\n",
      "File \u001b[1;32mc:\\Python311\\Lib\\asyncio\\base_events.py:588\u001b[0m, in \u001b[0;36mBaseEventLoop._check_running\u001b[1;34m(self)\u001b[0m\n\u001b[0;32m    586\u001b[0m \u001b[39mdef\u001b[39;00m \u001b[39m_check_running\u001b[39m(\u001b[39mself\u001b[39m):\n\u001b[0;32m    587\u001b[0m     \u001b[39mif\u001b[39;00m \u001b[39mself\u001b[39m\u001b[39m.\u001b[39mis_running():\n\u001b[1;32m--> 588\u001b[0m         \u001b[39mraise\u001b[39;00m \u001b[39mRuntimeError\u001b[39;00m(\u001b[39m'\u001b[39m\u001b[39mThis event loop is already running\u001b[39m\u001b[39m'\u001b[39m)\n\u001b[0;32m    589\u001b[0m     \u001b[39mif\u001b[39;00m events\u001b[39m.\u001b[39m_get_running_loop() \u001b[39mis\u001b[39;00m \u001b[39mnot\u001b[39;00m \u001b[39mNone\u001b[39;00m:\n\u001b[0;32m    590\u001b[0m         \u001b[39mraise\u001b[39;00m \u001b[39mRuntimeError\u001b[39;00m(\n\u001b[0;32m    591\u001b[0m             \u001b[39m'\u001b[39m\u001b[39mCannot run the event loop while another loop is running\u001b[39m\u001b[39m'\u001b[39m)\n",
      "\u001b[1;31mRuntimeError\u001b[0m: This event loop is already running"
     ]
    },
    {
     "name": "stdout",
     "output_type": "stream",
     "text": [
      "Start1:  1\n",
      "7\n",
      "7\n"
     ]
    }
   ],
   "source": [
    "start_server(index)"
   ]
  },
  {
   "cell_type": "code",
   "execution_count": null,
   "metadata": {},
   "outputs": [],
   "source": [
    "for i "
   ]
  }
 ],
 "metadata": {
  "kernelspec": {
   "display_name": "Python 3",
   "language": "python",
   "name": "python3"
  },
  "language_info": {
   "codemirror_mode": {
    "name": "ipython",
    "version": 3
   },
   "file_extension": ".py",
   "mimetype": "text/x-python",
   "name": "python",
   "nbconvert_exporter": "python",
   "pygments_lexer": "ipython3",
   "version": "3.11.4"
  },
  "orig_nbformat": 4,
  "vscode": {
   "interpreter": {
    "hash": "c261aea317cc0286b3b3261fbba9abdec21eaa57589985bb7a274bf54d6cc0a7"
   }
  }
 },
 "nbformat": 4,
 "nbformat_minor": 2
}
